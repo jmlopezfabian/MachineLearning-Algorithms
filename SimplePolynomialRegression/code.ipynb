{
 "cells": [
  {
   "cell_type": "markdown",
   "metadata": {},
   "source": [
    "# Simple Polynomial Regression"
   ]
  },
  {
   "cell_type": "markdown",
   "metadata": {},
   "source": [
    "We have a polynomial function of grade n.\n",
    "\n",
    "$$P(x) = a_0 + a_1 x + a_2 x^2 + a_mx^n$$\n",
    "\n",
    "Where:\n",
    "\n",
    "- $P(x)$ is the dependent variable.\n",
    "- $x$ is the independent variable.\n",
    "- $a_0, a_1, ..., a_n$ are the coefficients of the polynomial estimated from the data.\n",
    "- $n$ is the grade of the polynomi\n",
    "- $m$ is the total number of data.\n",
    "\n",
    "The objective of polynomial regression is to find the optimal values of coefficients $a_0, a_1, ..., a_n$ that minimize the sum of squared residuals, i.e., minimizing the difference between observed values and values predicted by the model.\n",
    "\n",
    "Consideremos una función de error $s$:\n",
    "\n",
    "$$S = \\frac{1}{2} \\sum_{i = 1}^{m} (P(x_i) - y_i)^2$$\n",
    "\n",
    "La cual corresponde a la formula del Residual Sum of Squares.\n",
    "\n",
    "Si desarrollamos el polinomio $P(x_i)$ obtenemos:\n",
    "\n",
    "$$S = \\frac{1}{2} \\sum_{i = 1}^{m} (a_0 + a_1 x_i+ a_2 x_i^2 + a_nx_i^n - y_i)^2$$\n",
    "\n",
    "Recordemos que nuestras $x_i$ representan cada una de nuestras observaciones y $a_0, a_1, ..., a_n$ son los coeficientes que deseamos estimar.\n",
    "\n",
    "Nosotros deseamos minizar el Residual Sum of Squares, por lo que debemos derivar nuestra función de error $s$, como se trata de una función de varias variables ($a_0, a_1, ..., a_n$) debemos hacer una derivada parcial respecto a cada una e igualar a 0 para hallar el minimo.\n",
    "\n",
    "\n",
    "Ecuación 1: $$\\frac{\\partial s}{\\partial a_0} = \\sum_{i = 1}^{m} (a_0 + a_1 x_i+ a_2 x_i^2 + a_nx_i^n - y_i) = 0$$      \n",
    "Ecuación 2: $$\\frac{\\partial s}{\\partial a_1} = \\sum_{i = 1}^{m} (a_0 + a_1 x_i+ a_2 x_i^2 + a_nx_i^n - y_i) (x_i)= 0$$\n",
    "Ecuación 3: $$\\frac{\\partial s}{\\partial a_2} = \\sum_{i = 1}^{m} (a_0 + a_1 x_i+ a_2 x_i^2 + a_nx_i^n - y_i) (x_i^2)= 0$$\n",
    "\n",
    "Generalizando, obtenemos: \n",
    "\n",
    "$$\\frac{\\partial s}{\\partial a_n} = \\sum_{i = 1}^{m} (a_0 + a_1 x_i+ a_2 x_i^2 + a_nx_i^n - y_i) (x_i^n)= 0$$\n",
    "\n",
    "\n",
    "De la ecuación 1 obtenemos:\n",
    "$$\\sum_{i = 1}^{m}a_0 +  \\sum_{i = 1}^{m}a_1 x_i + \\sum_{i = 1}^{m}a_2 x_i^2 + ... + \\sum_{i = 1}^{m}a_nx_i^n - \\sum_{i = 1}^{m}y_i = 0$$\n",
    "$$ma_0 +  \\sum_{i = 1}^{m}a_1 x_i + \\sum_{i = 1}^{m}a_2 x_i^2 + ... +\\sum_{i = 1}^{m}a_nx_i^n = \\sum_{i = 1}^{m}y_i$$ \n",
    "\n",
    "De la ecuación 2:\n",
    "$$\\sum_{i = 1}^{m}x_ia_0 + \\sum_{i = 1}^{m}a_1 x_i + \\sum_{i = 1}^{m}a_2 x_i^2 + \\sum_{i = 1}^{m}a_nx_i^n - \\sum_{i = 1}^{m}y_i = 0$$\n"
   ]
  },
  {
   "cell_type": "code",
   "execution_count": null,
   "metadata": {},
   "outputs": [],
   "source": []
  },
  {
   "cell_type": "code",
   "execution_count": null,
   "metadata": {},
   "outputs": [],
   "source": [
    "import pandas as pd\n",
    "import numpy as np\n",
    "import matplotlib.pyplot as plt\n",
    "import seaborn as sns"
   ]
  }
 ],
 "metadata": {
  "language_info": {
   "name": "python"
  }
 },
 "nbformat": 4,
 "nbformat_minor": 2
}
